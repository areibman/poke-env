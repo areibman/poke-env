{
 "cells": [
  {
   "cell_type": "markdown",
   "metadata": {},
   "source": [
    "# `PokeAgent` LLM reasoning agents\n",
    "\n",
    "\n",
    "**Note**: this notebooks requires a locally running Pokémon Showdown server. Please see the [getting started section](../getting_started.rst) for help on how to set one up.\n"
   ]
  },
  {
   "cell_type": "code",
   "execution_count": 1,
   "metadata": {
    "execution": {
     "iopub.execute_input": "2023-12-17T01:56:31.017492Z",
     "iopub.status.busy": "2023-12-17T01:56:31.017065Z",
     "iopub.status.idle": "2023-12-17T01:56:31.196204Z",
     "shell.execute_reply": "2023-12-17T01:56:31.195741Z"
    }
   },
   "outputs": [],
   "source": [
    "from poke_env import RandomPlayer\n",
    "from poke_env.player import Player\n",
    "from poke_env.environment.pokemon import Pokemon\n",
    "from poke_env.environment.battle import Battle, AbstractBattle\n",
    "import openai\n",
    "client = openai.OpenAI()\n",
    "from poke_env.environment.move import Move\n",
    "from typing import List, Union\n",
    "import json\n",
    "import agentops\n",
    "\n",
    "# The RandomPlayer is a basic agent that makes decisions randomly,\n",
    "# serving as a starting point for more complex agent development.\n",
    "random_player = RandomPlayer()"
   ]
  },
  {
   "cell_type": "markdown",
   "metadata": {},
   "source": [
    "### Creating a Battle\n",
    "\n",
    "To create a battle, let's create a second agent and use the `battle_against` method. It's an asynchronous method, so we need to `await` it."
   ]
  },
  {
   "cell_type": "code",
   "execution_count": 2,
   "metadata": {
    "execution": {
     "iopub.execute_input": "2023-12-17T01:56:31.199599Z",
     "iopub.status.busy": "2023-12-17T01:56:31.199103Z",
     "iopub.status.idle": "2023-12-17T01:56:31.458751Z",
     "shell.execute_reply": "2023-12-17T01:56:31.458150Z"
    }
   },
   "outputs": [],
   "source": [
    "second_player = RandomPlayer()\n",
    "\n",
    "# The battle_against method initiates a battle between two players.\n",
    "# Here we are using asynchronous programming (await) to start the battle.\n",
    "await random_player.battle_against(second_player, n_battles=1)"
   ]
  },
  {
   "cell_type": "markdown",
   "metadata": {},
   "source": [
    "If you want to look at this battle, you can open a browser at [http://localhost:8000](http://localhost:8000) - you should see the battle in the lobby.\n",
    "\n",
    "### Inspecting the Result\n",
    "\n",
    "Here are a couple of ways to inspect the result of this battle."
   ]
  },
  {
   "cell_type": "code",
   "execution_count": 3,
   "metadata": {
    "execution": {
     "iopub.execute_input": "2023-12-17T01:56:31.461987Z",
     "iopub.status.busy": "2023-12-17T01:56:31.461508Z",
     "iopub.status.idle": "2023-12-17T01:56:31.465156Z",
     "shell.execute_reply": "2023-12-17T01:56:31.464749Z"
    }
   },
   "outputs": [
    {
     "name": "stdout",
     "output_type": "stream",
     "text": [
      "Player RandomPlayer 1 won 0 out of 1 played\n",
      "Player RandomPlayer 2 won 1 out of 1 played\n",
      "battle-gen9randombattle-1702 False\n"
     ]
    }
   ],
   "source": [
    "# n_won_battles and n_finished_battles\n",
    "\n",
    "print(\n",
    "    f\"Player {random_player.username} won {random_player.n_won_battles} out of {random_player.n_finished_battles} played\"\n",
    ")\n",
    "print(\n",
    "    f\"Player {second_player.username} won {second_player.n_won_battles} out of {second_player.n_finished_battles} played\"\n",
    ")\n",
    "\n",
    "# Looping over battles\n",
    "\n",
    "for battle_tag, battle in random_player.battles.items():\n",
    "    print(battle_tag, battle.won)"
   ]
  },
  {
   "cell_type": "markdown",
   "metadata": {},
   "source": [
    "You can look at more properties of the [Player](../modules/player.rst) and [Battle](../modules/battle.rst) classes in the documentation.\n",
    "\n",
    "### Running a Cross-Evaluation\n",
    "\n",
    "`poke-env` provides a `cross_evaluate` function, that allows you to run a cross evaluation between multiple agents. It will run a number of battles between the two agents, and return the results of the evaluation in a structured way."
   ]
  },
  {
   "cell_type": "code",
   "execution_count": 4,
   "metadata": {
    "execution": {
     "iopub.execute_input": "2023-12-17T01:56:31.497179Z",
     "iopub.status.busy": "2023-12-17T01:56:31.497002Z",
     "iopub.status.idle": "2023-12-17T01:56:34.055317Z",
     "shell.execute_reply": "2023-12-17T01:56:34.054272Z"
    }
   },
   "outputs": [
    {
     "data": {
      "text/plain": [
       "{'RandomPlayer 1': {'RandomPlayer 1': None,\n",
       "  'RandomPlayer 2': 0.3333333333333333,\n",
       "  'RandomPlayer 3': 0.2},\n",
       " 'RandomPlayer 2': {'RandomPlayer 1': 0.6666666666666666,\n",
       "  'RandomPlayer 2': None,\n",
       "  'RandomPlayer 3': 0.4},\n",
       " 'RandomPlayer 3': {'RandomPlayer 1': 0.8,\n",
       "  'RandomPlayer 2': 0.6,\n",
       "  'RandomPlayer 3': None}}"
      ]
     },
     "execution_count": 4,
     "metadata": {},
     "output_type": "execute_result"
    }
   ],
   "source": [
    "from poke_env import cross_evaluate\n",
    "\n",
    "third_player = RandomPlayer()\n",
    "\n",
    "players = [random_player, second_player, third_player]\n",
    "\n",
    "cross_evaluation = await cross_evaluate(players, n_challenges=5)\n",
    "cross_evaluation"
   ]
  },
  {
   "cell_type": "markdown",
   "metadata": {},
   "source": [
    "Here's one way to pretty print the results of the cross evaluation using `tabulate`:"
   ]
  },
  {
   "cell_type": "code",
   "execution_count": 5,
   "metadata": {
    "execution": {
     "iopub.execute_input": "2023-12-17T01:56:34.059968Z",
     "iopub.status.busy": "2023-12-17T01:56:34.059694Z",
     "iopub.status.idle": "2023-12-17T01:56:34.067702Z",
     "shell.execute_reply": "2023-12-17T01:56:34.066920Z"
    }
   },
   "outputs": [
    {
     "name": "stdout",
     "output_type": "stream",
     "text": [
      "--------------  ------------------  ------------------  --------------\n",
      "-               RandomPlayer 1      RandomPlayer 2      RandomPlayer 3\n",
      "RandomPlayer 1                      0.3333333333333333  0.2\n",
      "RandomPlayer 2  0.6666666666666666                      0.4\n",
      "RandomPlayer 3  0.8                 0.6\n",
      "--------------  ------------------  ------------------  --------------\n"
     ]
    }
   ],
   "source": [
    "from tabulate import tabulate\n",
    "\n",
    "table = [[\"-\"] + [p.username for p in players]]\n",
    "for p_1, results in cross_evaluation.items():\n",
    "    table.append([p_1] + [cross_evaluation[p_1][p_2] for p_2 in results])\n",
    "\n",
    "print(tabulate(table))"
   ]
  },
  {
   "cell_type": "markdown",
   "metadata": {},
   "source": [
    "## Building GPT Player"
   ]
  },
  {
   "cell_type": "code",
   "execution_count": 6,
   "metadata": {},
   "outputs": [],
   "source": [
    "def log_pokemon(pokemon: Pokemon, is_opponent: bool = False):\n",
    "    lines = [\n",
    "        f\"[{pokemon.species} ({pokemon.name}) {'[FAINTED]' if pokemon.fainted else ''}]\",\n",
    "        f\"Types: {[t.name for t in pokemon.types]}\"\n",
    "    ]\n",
    "    \n",
    "    if is_opponent:\n",
    "        lines.append(f'Possible Tera types {pokemon.tera_type}')\n",
    "    \n",
    "    lines.extend([\n",
    "        f\"HP: {pokemon.current_hp}/{pokemon.max_hp} ({pokemon.current_hp_fraction*100:.1f}%)\",\n",
    "        f\"Base stats: {pokemon.base_stats}\",\n",
    "        f\"Stats: {pokemon.stats}\",\n",
    "        f\"{'Possible abililities' if is_opponent else 'Ability'}: {pokemon.ability}\",\n",
    "        f\"{'Possible items' if is_opponent else 'Item'}: {pokemon.item}\",\n",
    "        f\"Status: {pokemon.status}\"\n",
    "    ])\n",
    "    \n",
    "    if pokemon.status:\n",
    "        lines.append(f\"Status turn count: {pokemon.status_counter}\")\n",
    "    \n",
    "    lines.append(\"Moves:\")\n",
    "    lines.extend([\n",
    "        f\"Move ID: `{move.id}` Base Power: {move.base_power} Accuracy: {move.accuracy * 100}% PP: ({move.current_pp}/{move.max_pp}) Priority: {move.priority}  \"\n",
    "        for move in pokemon.moves.values()\n",
    "    ])\n",
    "    \n",
    "    lines.extend([\n",
    "        f\"Stats: {pokemon.stats}\",\n",
    "        f\"Boosts: {pokemon.boosts}\"\n",
    "    ])\n",
    "    \n",
    "    return \"\\n\".join(lines)\n",
    "\n",
    "\n",
    "def log_player_info(battle: AbstractBattle):\n",
    "    lines = [\n",
    "        \"== Player Info ==\",\n",
    "        \"Active pokemon:\",\n",
    "        log_pokemon(battle.active_pokemon),\n",
    "        f\"Tera Type: {battle.can_tera}\",\n",
    "        '-'*10,\n",
    "        f\"Team: {battle.team}\"\n",
    "    ]\n",
    "    \n",
    "    for _, mon in battle.team.items():\n",
    "        if not mon.active:\n",
    "            lines.append(log_pokemon(mon))\n",
    "            lines.append(\"\")\n",
    "    \n",
    "    return \"\\n\".join(lines)\n",
    "\n",
    "\n",
    "def log_opponent_info(battle: AbstractBattle):\n",
    "    return \"\\n\".join([\n",
    "        \"== Opponent Info ==\",\n",
    "        \"Opponent active pokemon:\",\n",
    "        log_pokemon(battle.opponent_active_pokemon, is_opponent=True),\n",
    "        f\"Opponent team: {battle.opponent_team}\"\n",
    "    ])\n",
    "\n",
    "\n",
    "def log_battle_info(battle: AbstractBattle):\n",
    "    lines = [\n",
    "        \"== Battle Info ==\",\n",
    "        f\"Turn: {battle.turn}\"\n",
    "    ]\n",
    "    \n",
    "    # Field info\n",
    "    if battle.weather:\n",
    "        lines.append(f\"Weather: {battle.weather}\")\n",
    "    if battle.fields:\n",
    "        lines.append(f\"Fields: {battle.fields}\")\n",
    "    if battle.side_conditions:\n",
    "        lines.append(f\"Player side conditions: {battle.side_conditions}\")\n",
    "    if battle.opponent_side_conditions:\n",
    "        lines.append(f\"Opponent side conditions: {battle.opponent_side_conditions}\")\n",
    "    if battle.trapped:\n",
    "        lines.append(f\"Trapped: {battle.trapped}\")\n",
    "    \n",
    "    return \"\\n\".join(lines)\n"
   ]
  },
  {
   "cell_type": "code",
   "execution_count": 7,
   "metadata": {
    "execution": {
     "iopub.execute_input": "2023-12-17T01:56:34.070441Z",
     "iopub.status.busy": "2023-12-17T01:56:34.070237Z",
     "iopub.status.idle": "2023-12-17T01:56:34.074119Z",
     "shell.execute_reply": "2023-12-17T01:56:34.073492Z"
    }
   },
   "outputs": [],
   "source": [
    "def create_prompt(battle_info, player_info, opponent_info, available_moves) -> str:\n",
    "    prompt = f\"\"\"\n",
    "Here is the current state of the battle:\n",
    "\n",
    "{battle_info}\n",
    "\n",
    "Here is the current state of your team:\n",
    "\n",
    "{player_info}\n",
    "\n",
    "Here is the current state of the opponent's team:\n",
    "\n",
    "{opponent_info} \n",
    "\n",
    "Your goal is to win the battle. You can only choose one move to make.\n",
    "\n",
    "Here is the list of available moves:\n",
    "\n",
    "{available_moves}\n",
    "\n",
    "Reason carefully about the best move to make. Consider things like the opponent's team, the weather, the side conditions (i.e. stealth rock, spikes, sticky web, etc.). Consider the effectiveness of the move against the opponent's team, but also consider the power of the move, and the accuracy. You may also switch to a different pokemon if you think it is a better option. Given the complexity of the game, you may also sometimes choose to \"sacrifice\" your pokemon to put your team in a better position.\n",
    "\n",
    "Finally, write a conclusion that includes the move you will make, and the reason you made that move.\n",
    "\n",
    "\"\"\"\n",
    "    return prompt\n",
    "\n",
    "class GPTPlayer(Player):\n",
    "    \n",
    "    def choose_max_damage_move(self, battle: Battle):\n",
    "        return max(battle.available_moves, key=lambda move: move.base_power)\n",
    "\n",
    "    def choose_move(self, battle: AbstractBattle):\n",
    "\n",
    "        def choose_order_from_id(move_id: str, battle: AbstractBattle) -> Union[Move, Pokemon]:\n",
    "            try:\n",
    "                return list(filter(lambda move: move.id == move_id, battle.available_moves))[0]\n",
    "            except Exception as e:\n",
    "                print('Error picking move: ', e)\n",
    "                return battle.available_moves[0]\n",
    "\n",
    "        # Chooses a move with the highest base power when possible\n",
    "        if battle.available_moves:\n",
    "            # Define tool call dsl\n",
    "            tools = [{\n",
    "                \"type\": \"function\",\n",
    "                \"name\": \"choose_order_from_id\",\n",
    "                \"description\": \"Choose a move from the list of available moves.\",\n",
    "                \"parameters\": {\n",
    "                    \"type\": \"object\",\n",
    "                    \"properties\": {\n",
    "                        \"move_id\": {\n",
    "                            \"type\": \"string\",\n",
    "                            \"description\": \"The id (name of move) of the move to choose\"\n",
    "                        }\n",
    "                    },\n",
    "                    \"required\": [\n",
    "                        \"move_id\"\n",
    "                    ],\n",
    "                    \"additionalProperties\": False\n",
    "                }\n",
    "            }]\n",
    "\n",
    "            # Pass state of game to the Agent\n",
    "            system_prompt = create_prompt(\n",
    "                log_battle_info(battle),\n",
    "                log_player_info(battle),\n",
    "                log_opponent_info(battle),\n",
    "                battle.available_moves\n",
    "            )\n",
    "            \n",
    "            print('Calling GPT...')\n",
    "            reasoning_response = client.responses.create(\n",
    "                model=\"gpt-4.1\",\n",
    "                input=[{\"role\": \"system\", \"content\": system_prompt}, \n",
    "                    {\"role\": \"user\", \"content\": \"Select a move based on the move id (the name of the move)\"}],\n",
    "                # tools=tools,\n",
    "                # tool_choice=\"required\"\n",
    "            )\n",
    "\n",
    "            tool_selection_response = client.responses.create(\n",
    "                model=\"gpt-4.1\",\n",
    "                input=\"tell me another\",\n",
    "                tools=tools,\n",
    "                tool_choice=\"required\",\n",
    "                previous_response_id=reasoning_response.id\n",
    "            )\n",
    "\n",
    "            \n",
    "            print('GPT called')\n",
    "            tool_call = tool_selection_response.output[0]\n",
    "            print(tool_call)\n",
    "            args = json.loads(tool_call.arguments)\n",
    "            print('Args: ', args)\n",
    "            print('Available moves: ', battle.available_moves)\n",
    "            chosen_order = choose_order_from_id(args[\"move_id\"], battle)\n",
    "            print('Chosen order: ', chosen_order)\n",
    "\n",
    "            # Iterating over available moves to find the one with the highest base power\n",
    "            best_move = max(battle.available_moves, key=lambda move: move.base_power)\n",
    "            # Creating an order for the selected move\n",
    "            return self.create_order(chosen_order)\n",
    "\n",
    "\n",
    "        else:\n",
    "            print('No moves available calling random')\n",
    "            # If no attacking move is available, perform a random switch\n",
    "            # This involves choosing a random move, which could be a switch or another available action\n",
    "            return self.choose_random_move(battle)\n"
   ]
  },
  {
   "cell_type": "markdown",
   "metadata": {},
   "source": [
    "## Run the GPT Player\n",
    "\n",
    "Next, we'll test our `GPT Player` against a `RandomPlayer` in a series of battles:\n"
   ]
  },
  {
   "cell_type": "code",
   "execution_count": null,
   "metadata": {
    "execution": {
     "iopub.execute_input": "2023-12-17T01:56:34.082896Z",
     "iopub.status.busy": "2023-12-17T01:56:34.082654Z",
     "iopub.status.idle": "2023-12-17T01:56:44.386996Z",
     "shell.execute_reply": "2023-12-17T01:56:44.386238Z"
    }
   },
   "outputs": [
    {
     "name": "stdout",
     "output_type": "stream",
     "text": [
      "No moves available calling random\n",
      "No moves available calling random\n",
      "No moves available calling random\n",
      "No moves available calling random\n",
      "No moves available calling random\n",
      "No moves available calling random\n",
      "No moves available calling random\n",
      "No moves available calling random\n",
      "No moves available calling random\n",
      "No moves available calling random\n",
      "No moves available calling random\n",
      "No moves available calling random\n",
      "No moves available calling random\n",
      "No moves available calling random\n",
      "No moves available calling random\n",
      "No moves available calling random\n",
      "No moves available calling random\n",
      "No moves available calling random\n",
      "No moves available calling random\n",
      "No moves available calling random\n",
      "No moves available calling random\n",
      "No moves available calling random\n",
      "No moves available calling random\n",
      "No moves available calling random\n",
      "No moves available calling random\n",
      "No moves available calling random\n",
      "No moves available calling random\n",
      "Calling GPT...\n",
      "GPT called\n",
      "ResponseFunctionToolCall(arguments='{\"move_id\":\"focusblast\"}', call_id='call_M54xCWmKoj2TIolEDNZXoAzy', name='choose_order_from_id', type='function_call', id='fc_681fd650552c8191987f524bd5f8fc3b036d67cad329e0a2', status='completed')\n",
      "Args:  {'move_id': 'focusblast'}\n",
      "Available moves:  [focusblast (Move object), psychic (Move object), calmmind (Move object), recover (Move object)]\n",
      "Chosen order:  focusblast (Move object)\n",
      "Calling GPT...\n"
     ]
    },
    {
     "name": "stderr",
     "output_type": "stream",
     "text": [
      "2025-05-10 15:42:37,734 - GPTPlayer 1 - WARNING - Popup message received: |popup|There's already a challenge (gen9randombattle) between you and RandomPlayer 4!\n",
      "2025-05-10 15:42:37,749 - GPTPlayer 1 - WARNING - Popup message received: |popup|You are already challenging someone. Cancel that challenge before challenging someone else.\n"
     ]
    },
    {
     "name": "stdout",
     "output_type": "stream",
     "text": [
      "GPT called\n",
      "ResponseFunctionToolCall(arguments='{\"move_id\":\"psychic\"}', call_id='call_6LRfbizACYWj6fEai8OIvxJ8', name='choose_order_from_id', type='function_call', id='fc_681fd65d7d0c8191b99cddc06983aac006e7a35d4a8b5a40', status='completed')\n",
      "Args:  {'move_id': 'psychic'}\n",
      "Available moves:  [focusblast (Move object), psychic (Move object), calmmind (Move object), recover (Move object)]\n",
      "Chosen order:  psychic (Move object)\n",
      "No moves available calling random\n",
      "Calling GPT...\n",
      "GPT called\n",
      "ResponseFunctionToolCall(arguments='{\"move_id\":\"quiverdance\"}', call_id='call_wTYy76JCLUBpK2jyLqHYzwze', name='choose_order_from_id', type='function_call', id='fc_681fd66b9b3481919bb5dfb5158d96860f0278777777aaf5', status='completed')\n",
      "Args:  {'move_id': 'quiverdance'}\n",
      "Available moves:  [hurricane (Move object), quiverdance (Move object), roost (Move object), revelationdance (Move object)]\n",
      "Chosen order:  quiverdance (Move object)\n",
      "Calling GPT...\n",
      "GPT called\n",
      "ResponseFunctionToolCall(arguments='{\"move_id\":\"roost\"}', call_id='call_gL7J7ePkpjXXMfyaqrmqhbuJ', name='choose_order_from_id', type='function_call', id='fc_681fd67c3f548191a08c4060717517e10523356fbc2378cd', status='completed')\n",
      "Args:  {'move_id': 'roost'}\n",
      "Available moves:  [hurricane (Move object), quiverdance (Move object), roost (Move object), revelationdance (Move object)]\n",
      "Chosen order:  roost (Move object)\n",
      "Calling GPT...\n",
      "GPT called\n",
      "ResponseFunctionToolCall(arguments='{\"move_id\":\"roost\"}', call_id='call_Pq5qiyb8TjBxAws7ZkgXMwRm', name='choose_order_from_id', type='function_call', id='fc_681fd698a7c481919653155906c9c0ed00f419d9435ce586', status='completed')\n",
      "Args:  {'move_id': 'roost'}\n",
      "Available moves:  [hurricane (Move object), quiverdance (Move object), roost (Move object), revelationdance (Move object)]\n",
      "Chosen order:  roost (Move object)\n",
      "Calling GPT...\n",
      "GPT called\n",
      "ResponseFunctionToolCall(arguments='{\"move_id\":\"quiverdance\"}', call_id='call_ymBzMhEkxKlZGYTaoYATOvhN', name='choose_order_from_id', type='function_call', id='fc_681fd6a1b4b881918a15928a380408460a819bb35da85c35', status='completed')\n",
      "Args:  {'move_id': 'quiverdance'}\n",
      "Available moves:  [hurricane (Move object), quiverdance (Move object), roost (Move object), revelationdance (Move object)]\n",
      "Chosen order:  quiverdance (Move object)\n",
      "No moves available calling random\n",
      "Calling GPT...\n",
      "GPT called\n",
      "ResponseFunctionToolCall(arguments='{\"move_id\":\"protect\"}', call_id='call_cYMMvRba7Z2ZlerkfWgEvW74', name='choose_order_from_id', type='function_call', id='fc_681fd6ac50508191972853aa2d0ecd430158b464adf9f0d3', status='completed')\n",
      "Args:  {'move_id': 'protect'}\n",
      "Available moves:  [playrough (Move object), protect (Move object), encore (Move object), wish (Move object)]\n",
      "Chosen order:  protect (Move object)\n",
      "Calling GPT...\n",
      "GPT called\n",
      "ResponseFunctionToolCall(arguments='{\"move_id\":\"wish\"}', call_id='call_Wkt8diRWrNdIHmHeOoQ33Y7P', name='choose_order_from_id', type='function_call', id='fc_681fd6b7f5f08191b2bda45c06e64e220dca86ea5c164785', status='completed')\n",
      "Args:  {'move_id': 'wish'}\n",
      "Available moves:  [playrough (Move object), protect (Move object), encore (Move object), wish (Move object)]\n",
      "Chosen order:  wish (Move object)\n",
      "Calling GPT...\n",
      "GPT called\n",
      "ResponseFunctionToolCall(arguments='{\"move_id\":\"playrough\"}', call_id='call_zLREYUZ4bxINqODvWqUlG5sp', name='choose_order_from_id', type='function_call', id='fc_681fd6c748a481919e9dec33358a89a40c6b5bb04aab56f7', status='completed')\n",
      "Args:  {'move_id': 'playrough'}\n",
      "Available moves:  [playrough (Move object), protect (Move object), encore (Move object), wish (Move object)]\n",
      "Chosen order:  playrough (Move object)\n",
      "Calling GPT...\n"
     ]
    }
   ],
   "source": [
    "# Max damage player\n",
    "class MaxDamagePlayer(Player):\n",
    "    def choose_move(self, battle):\n",
    "        if battle.available_moves:\n",
    "            best_move = max(battle.available_moves, key=lambda move: move.base_power)\n",
    "\n",
    "            if battle.can_tera:\n",
    "                return self.create_order(best_move, terastallize=True)\n",
    "\n",
    "            return self.create_order(best_move)\n",
    "        else:\n",
    "            return self.choose_random_move(battle)\n",
    "\n",
    "# Creating players\n",
    "random_player = RandomPlayer()\n",
    "gpt_player = GPTPlayer()\n",
    "\n",
    "# Running battles\n",
    "\n",
    "agentops.init()\n",
    "await gpt_player.battle_against(random_player, n_battles=1)\n",
    "\n",
    "\n",
    "# Displaying results\n",
    "print(f\"GPT player won {gpt_player.n_won_battles} / {gpt_player.n_finished_battles} battles\")"
   ]
  }
 ],
 "metadata": {
  "kernelspec": {
   "display_name": "env",
   "language": "python",
   "name": "python3"
  },
  "language_info": {
   "codemirror_mode": {
    "name": "ipython",
    "version": 3
   },
   "file_extension": ".py",
   "mimetype": "text/x-python",
   "name": "python",
   "nbconvert_exporter": "python",
   "pygments_lexer": "ipython3",
   "version": "3.12.7"
  }
 },
 "nbformat": 4,
 "nbformat_minor": 2
}
